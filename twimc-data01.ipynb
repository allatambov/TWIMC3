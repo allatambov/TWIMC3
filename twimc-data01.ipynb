{
 "cells": [
  {
   "cell_type": "markdown",
   "metadata": {},
   "source": [
    "## Введение в ТВиМС: практикум по описанию выборок №1\n",
    "\n",
    "*Aлла Тамбовцева, НИУ ВШЭ*"
   ]
  },
  {
   "cell_type": "markdown",
   "metadata": {},
   "source": [
    "### Часть 1: работа с выборкой с библиотекой NumPy"
   ]
  },
  {
   "cell_type": "markdown",
   "metadata": {},
   "source": [
    "Импортируем библиотеку `numpy` для работы с массивами, прежде всего, числовыми (*NumPy* – от *numeric Python*):"
   ]
  },
  {
   "cell_type": "code",
   "execution_count": 1,
   "metadata": {},
   "outputs": [],
   "source": [
    "import numpy as np"
   ]
  },
  {
   "cell_type": "markdown",
   "metadata": {},
   "source": [
    "Создадим массив с выборкой из семинарского листочка:"
   ]
  },
  {
   "cell_type": "code",
   "execution_count": 2,
   "metadata": {},
   "outputs": [
    {
     "name": "stdout",
     "output_type": "stream",
     "text": [
      "[ 2  1  0 20  3  1  0]\n"
     ]
    }
   ],
   "source": [
    "sample = np.array([2, 1, 0, 20, 3, 1, 0])\n",
    "print(sample)"
   ]
  },
  {
   "cell_type": "markdown",
   "metadata": {},
   "source": [
    "На числовых массивах определён ряд методов, позволяющих получить описательные статистики по выборке:\n",
    "\n",
    "* `min()` и `max()`: минимальное и максимальное значение;\n",
    "* `mean()`: среднее значение."
   ]
  },
  {
   "cell_type": "code",
   "execution_count": 3,
   "metadata": {},
   "outputs": [
    {
     "name": "stdout",
     "output_type": "stream",
     "text": [
      "Min: 0\n",
      "Max: 20\n",
      "Mean: 3.857142857142857\n"
     ]
    }
   ],
   "source": [
    "print(\"Min:\", sample.min())\n",
    "print(\"Max:\", sample.max())\n",
    "print(\"Mean:\", sample.mean())"
   ]
  },
  {
   "cell_type": "markdown",
   "metadata": {},
   "source": [
    "Методов для нахождения медианы и квартилей нет, вместо них используются соответствующие функции из `NumPy`:"
   ]
  },
  {
   "cell_type": "code",
   "execution_count": 4,
   "metadata": {},
   "outputs": [
    {
     "name": "stdout",
     "output_type": "stream",
     "text": [
      "Median: 1.0\n",
      "25%: 0.5\n",
      "75%: 2.5\n"
     ]
    }
   ],
   "source": [
    "print(\"Median:\", np.median(sample))\n",
    "print(\"25%:\", np.quantile(sample, 0.25))\n",
    "print(\"75%:\", np.quantile(sample, 0.75))"
   ]
  },
  {
   "cell_type": "markdown",
   "metadata": {},
   "source": [
    "Если нам нужно определить межквартильный размах, можем просто сохранить верхний и нижний квартили в переменные и вычесть из одного значения другое:"
   ]
  },
  {
   "cell_type": "code",
   "execution_count": 5,
   "metadata": {},
   "outputs": [
    {
     "name": "stdout",
     "output_type": "stream",
     "text": [
      "2.0\n"
     ]
    }
   ],
   "source": [
    "Q1 = np.quantile(sample, 0.25)\n",
    "Q3 = np.quantile(sample, 0.75)\n",
    "IQR = Q3 - Q1\n",
    "print(IQR)"
   ]
  },
  {
   "cell_type": "markdown",
   "metadata": {},
   "source": [
    "Определим границы характерных значений и выведем их в виде списка:"
   ]
  },
  {
   "cell_type": "code",
   "execution_count": 6,
   "metadata": {},
   "outputs": [
    {
     "data": {
      "text/plain": [
       "[-2.5, 5.5]"
      ]
     },
     "execution_count": 6,
     "metadata": {},
     "output_type": "execute_result"
    }
   ],
   "source": [
    "[Q1 - 1.5 * IQR, Q3 + 1.5 * IQR]"
   ]
  },
  {
   "cell_type": "markdown",
   "metadata": {},
   "source": [
    "Чтобы выбрать те значения, которые в полученный интервал не входят (выбрать нетипичные значения или выбросы), сохраним границы интервала в переменные:"
   ]
  },
  {
   "cell_type": "code",
   "execution_count": 7,
   "metadata": {},
   "outputs": [],
   "source": [
    "left = Q1 - 1.5 * IQR\n",
    "right = Q3 + 1.5 * IQR"
   ]
  },
  {
   "cell_type": "markdown",
   "metadata": {},
   "source": [
    "И сформулируем условие для отбора в квадратных скобках:"
   ]
  },
  {
   "cell_type": "code",
   "execution_count": 8,
   "metadata": {},
   "outputs": [
    {
     "data": {
      "text/plain": [
       "array([20])"
      ]
     },
     "execution_count": 8,
     "metadata": {},
     "output_type": "execute_result"
    }
   ],
   "source": [
    "sample[(sample < left) | (sample > right)]"
   ]
  },
  {
   "cell_type": "markdown",
   "metadata": {},
   "source": [
    "Логика работы условия выше простая: выбери из `sample` те значения, на которых условие в квадратных скобках возвращает `True`:"
   ]
  },
  {
   "cell_type": "code",
   "execution_count": 9,
   "metadata": {},
   "outputs": [
    {
     "data": {
      "text/plain": [
       "array([False, False, False,  True, False, False, False])"
      ]
     },
     "execution_count": 9,
     "metadata": {},
     "output_type": "execute_result"
    }
   ],
   "source": [
    "(sample < left) | (sample > right)"
   ]
  },
  {
   "cell_type": "markdown",
   "metadata": {},
   "source": [
    "Теперь построим график, который визуализирует описательные статистики и наличие/отсутствие нехарактерных значений. Этот график называется *ящик с усами* (*boxplot* или *box-and-whiskers plot*). Для этого импортируем из библиотеки `matplotlib` модуль `pyplot` для отрисовки графиков:"
   ]
  },
  {
   "cell_type": "code",
   "execution_count": 10,
   "metadata": {},
   "outputs": [],
   "source": [
    "from matplotlib import pyplot as plt"
   ]
  },
  {
   "cell_type": "markdown",
   "metadata": {},
   "source": [
    "И построим сам график для нашей выборки:"
   ]
  },
  {
   "cell_type": "code",
   "execution_count": 11,
   "metadata": {},
   "outputs": [
    {
     "data": {
      "image/png": "[encoded data removed]",
      "text/plain": [
       "<Figure size 432x288 with 1 Axes>"
      ]
     },
     "metadata": {
      "needs_background": "light"
     },
     "output_type": "display_data"
    }
   ],
   "source": [
    "# добавление ; в конце позволяет отрисовать график \n",
    "# в чистом виде, без лишней информации перед картинкой\n",
    "\n",
    "plt.boxplot(sample);"
   ]
  },
  {
   "cell_type": "markdown",
   "metadata": {},
   "source": [
    "Границы ящика соответствуют нижнему и верхнему квартилю, линия внутри ящика – медиане. Усы ящика строятся по-разному, в зависимости от данных:\n",
    "\n",
    "* если нехарактерных значений нет, граница нижнего и верхнего уса – просто минимальное и максимальное значение в выборке;\n",
    "* если нехарактерные значения есть, граница нижнего уса – минимальное значение среди типичных, а граница верхнего уса – максимальное значение среди типичных, нетипичные значения обозначаются точками вне ящика.\n",
    "\n",
    "Добавим цвет заливки для ящика и цвет его границ:"
   ]
  },
  {
   "cell_type": "code",
   "execution_count": 12,
   "metadata": {},
   "outputs": [
    {
     "data": {
      "image/png": "[encoded data removed]",
      "text/plain": [
       "<Figure size 432x288 with 1 Axes>"
      ]
     },
     "metadata": {
      "needs_background": "light"
     },
     "output_type": "display_data"
    }
   ],
   "source": [
    "plt.boxplot(sample, \n",
    "            patch_artist = True, \n",
    "            boxprops = dict(facecolor = \"yellow\", color = \"black\"));"
   ]
  },
  {
   "cell_type": "markdown",
   "metadata": {},
   "source": [
    "Если в конце строки для построения графика мы не поставим `;`, Python нам покажет словарь, на основе которого отрисовывается график:"
   ]
  },
  {
   "cell_type": "code",
   "execution_count": 13,
   "metadata": {},
   "outputs": [
    {
     "data": {
      "text/plain": [
       "{'whiskers': [<matplotlib.lines.Line2D at 0x111c10150>,\n",
       "  <matplotlib.lines.Line2D at 0x111c10710>],\n",
       " 'caps': [<matplotlib.lines.Line2D at 0x111c10c10>,\n",
       "  <matplotlib.lines.Line2D at 0x111c07510>],\n",
       " 'boxes': [<matplotlib.lines.Line2D at 0x111c074d0>],\n",
       " 'medians': [<matplotlib.lines.Line2D at 0x111c17690>],\n",
       " 'fliers': [<matplotlib.lines.Line2D at 0x111c17b90>],\n",
       " 'means': []}"
      ]
     },
     "execution_count": 13,
     "metadata": {},
     "output_type": "execute_result"
    },
    {
     "data": {
      "image/png": "[encoded data removed]",
      "text/plain": [
       "<Figure size 432x288 with 1 Axes>"
      ]
     },
     "metadata": {
      "needs_background": "light"
     },
     "output_type": "display_data"
    }
   ],
   "source": [
    "plt.boxplot(sample)"
   ]
  },
  {
   "cell_type": "markdown",
   "metadata": {},
   "source": [
    "Если сохранить этот словарь в переменную, из него можно будет извлечь вспомогательные данные."
   ]
  },
  {
   "cell_type": "code",
   "execution_count": 14,
   "metadata": {},
   "outputs": [
    {
     "data": {
      "image/png": "[encoded data removed]",
      "text/plain": [
       "<Figure size 432x288 with 1 Axes>"
      ]
     },
     "metadata": {
      "needs_background": "light"
     },
     "output_type": "display_data"
    }
   ],
   "source": [
    "box = plt.boxplot(sample)"
   ]
  },
  {
   "cell_type": "markdown",
   "metadata": {},
   "source": [
    "Например, те же выбросы в виде массива:"
   ]
  },
  {
   "cell_type": "code",
   "execution_count": 15,
   "metadata": {},
   "outputs": [
    {
     "data": {
      "text/plain": [
       "array([20])"
      ]
     },
     "execution_count": 15,
     "metadata": {},
     "output_type": "execute_result"
    }
   ],
   "source": [
    "# извлекаем запись по ключу fliers, fliers = outliers,\n",
    "# из нее один элемент с индексом 0,\n",
    "# а из него – значения по оси y\n",
    "\n",
    "box[\"fliers\"][0].get_ydata()"
   ]
  },
  {
   "cell_type": "markdown",
   "metadata": {},
   "source": [
    "Более подробно про ящик с усами можно почитать в официальной [документации](https://matplotlib.org/stable/api/_as_gen/matplotlib.pyplot.boxplot.html)."
   ]
  },
  {
   "cell_type": "markdown",
   "metadata": {},
   "source": [
    "### Часть 2: работа с выборкой с библиотекой SciPy"
   ]
  },
  {
   "cell_type": "markdown",
   "metadata": {},
   "source": [
    "Импортируем из библиотеки `scipy` для научных вычислений (от *Scientific Python*) модуль `stats`:"
   ]
  },
  {
   "cell_type": "code",
   "execution_count": 16,
   "metadata": {},
   "outputs": [],
   "source": [
    "from scipy import stats"
   ]
  },
  {
   "cell_type": "markdown",
   "metadata": {},
   "source": [
    "Вызовем из этого модуля функцию `describe()` для получения описательных статистик:"
   ]
  },
  {
   "cell_type": "code",
   "execution_count": 17,
   "metadata": {},
   "outputs": [
    {
     "data": {
      "text/plain": [
       "DescribeResult(nobs=7, minmax=(0, 20), mean=3.857142857142857, variance=51.80952380952382, skewness=1.9493974630335922, kurtosis=1.9618625310877995)"
      ]
     },
     "execution_count": 17,
     "metadata": {},
     "output_type": "execute_result"
    }
   ],
   "source": [
    "stats.describe(sample)"
   ]
  },
  {
   "cell_type": "markdown",
   "metadata": {},
   "source": [
    "Здесь:\n",
    "   \n",
    "* `nobs`: число наблюдений;\n",
    "* `minmax`: кортеж с минимумом и максимумом;\n",
    "* `mean`: среднее;\n",
    "* `variance`: выборочная дисперсия;\n",
    "* `skewness`: коэффициент [скошенности](https://en.wikipedia.org/wiki/Skewness) (насколько распределение несимметрично, скошено вправо или влево);\n",
    "* `kurtosis`: коэффициент [эксцесса](https://en.wikipedia.org/wiki/Kurtosis) (насколько выражен пик распределения, «плоское» оно или «остроконечное»)."
   ]
  },
  {
   "cell_type": "markdown",
   "metadata": {},
   "source": [
    "Можем сохранить результат выше в переменную и извлечь из неё характеристики отдельно:"
   ]
  },
  {
   "cell_type": "code",
   "execution_count": 18,
   "metadata": {},
   "outputs": [
    {
     "name": "stdout",
     "output_type": "stream",
     "text": [
      "N: 7\n",
      "Mean: 3.857142857142857\n",
      "Min: 0\n",
      "Max: 20\n",
      "Range: 20\n"
     ]
    }
   ],
   "source": [
    "desc = stats.describe(sample)\n",
    "print(\"N:\", desc.nobs)\n",
    "print(\"Mean:\", desc.mean)\n",
    "print(\"Min:\", desc.minmax[0])\n",
    "print(\"Max:\", desc.minmax[1])\n",
    "\n",
    "# размах: max - min\n",
    "print(\"Range:\", desc.minmax[1] - desc.minmax[0])"
   ]
  },
  {
   "cell_type": "markdown",
   "metadata": {},
   "source": [
    "Также в `stats` есть полезная функция `iqr()`, она умеет считать межквартильный размах:"
   ]
  },
  {
   "cell_type": "code",
   "execution_count": 19,
   "metadata": {},
   "outputs": [
    {
     "data": {
      "text/plain": [
       "2.0"
      ]
     },
     "execution_count": 19,
     "metadata": {},
     "output_type": "execute_result"
    }
   ],
   "source": [
    "stats.iqr(sample)"
   ]
  },
  {
   "cell_type": "markdown",
   "metadata": {},
   "source": [
    "И, наконец, в `stats` есть функция `rankdata()`, которая определяет ранги наблюдений (с усреднением, как мы вычисляли вручную):"
   ]
  },
  {
   "cell_type": "code",
   "execution_count": 20,
   "metadata": {},
   "outputs": [
    {
     "data": {
      "text/plain": [
       "array([5. , 3.5, 1.5, 7. , 6. , 3.5, 1.5])"
      ]
     },
     "execution_count": 20,
     "metadata": {},
     "output_type": "execute_result"
    }
   ],
   "source": [
    "stats.rankdata(sample)"
   ]
  },
  {
   "cell_type": "markdown",
   "metadata": {},
   "source": [
    "### Часть 3: работа с реальными данными в виде датафреймов Pandas"
   ]
  },
  {
   "cell_type": "markdown",
   "metadata": {},
   "source": [
    "В файле `coffee_and_code.csv` содержатся результаты опроса программистов:\n",
    "\n",
    "* `CodingHours`: время, которое респондент тратит на написание кода (число часов в день);\n",
    "* `CoffeeCupsPerDay`: количество чашек кофе, которое респондент выпивает в день;\n",
    "* `CoffeeTime`: когда респондент пьет кофе (перед написанием кода, во время написания кода, весь день и прочие варианты);\n",
    "* `CodingWithoutCoffee`: пишет ли респондент код без кофе (да, нет, иногда);\n",
    "* `CoffeeType`: тип или марка кофе, предпочитаемые респондентом;\n",
    "* `CoffeeSolveBugs`: исправляет ли программист баги в коде (да, нет, иногда);\n",
    "* `Gender`: пол респондента;\n",
    "* `Country`: страна респондента;\n",
    "* `AgeRange`: возраст респондента (по категориям)."
   ]
  },
  {
   "cell_type": "markdown",
   "metadata": {},
   "source": [
    "Импортируем библиотеку `pandas` для загрузки и обработки данных в табличном виде, её обычно импортируют с сокращённым названием `pd`:"
   ]
  },
  {
   "cell_type": "code",
   "execution_count": 21,
   "metadata": {},
   "outputs": [],
   "source": [
    "import pandas as pd"
   ]
  },
  {
   "cell_type": "markdown",
   "metadata": {},
   "source": [
    "Загрузим данные из CSV-файла (расширение `.csv` – от *comma separated values*, то есть значения, разделённые запятыми):"
   ]
  },
  {
   "cell_type": "code",
   "execution_count": 22,
   "metadata": {},
   "outputs": [],
   "source": [
    "df = pd.read_csv(\"coffee_and_code.csv\")"
   ]
  },
  {
   "cell_type": "markdown",
   "metadata": {},
   "source": [
    "Посмотрим на датафрейм:"
   ]
  },
  {
   "cell_type": "code",
   "execution_count": 23,
   "metadata": {},
   "outputs": [
    {
     "data": {
      "text/html": [
       "<div>\n",
       "<style scoped>\n",
       "    .dataframe tbody tr th:only-of-type {\n",
       "        vertical-align: middle;\n",
       "    }\n",
       "\n",
       "    .dataframe tbody tr th {\n",
       "        vertical-align: top;\n",
       "    }\n",
       "\n",
       "    .dataframe thead th {\n",
       "        text-align: right;\n",
       "    }\n",
       "</style>\n",
       "<table border=\"1\" class=\"dataframe\">\n",
       "  <thead>\n",
       "    <tr style=\"text-align: right;\">\n",
       "      <th></th>\n",
       "      <th>CodingHours</th>\n",
       "      <th>CoffeeCupsPerDay</th>\n",
       "      <th>CoffeeTime</th>\n",
       "      <th>CodingWithoutCoffee</th>\n",
       "      <th>CoffeeType</th>\n",
       "      <th>CoffeeSolveBugs</th>\n",
       "      <th>Gender</th>\n",
       "      <th>Country</th>\n",
       "      <th>AgeRange</th>\n",
       "    </tr>\n",
       "  </thead>\n",
       "  <tbody>\n",
       "    <tr>\n",
       "      <th>0</th>\n",
       "      <td>8</td>\n",
       "      <td>2</td>\n",
       "      <td>Before coding</td>\n",
       "      <td>Yes</td>\n",
       "      <td>Caffè latte</td>\n",
       "      <td>Sometimes</td>\n",
       "      <td>Female</td>\n",
       "      <td>Lebanon</td>\n",
       "      <td>18 to 29</td>\n",
       "    </tr>\n",
       "    <tr>\n",
       "      <th>1</th>\n",
       "      <td>3</td>\n",
       "      <td>2</td>\n",
       "      <td>Before coding</td>\n",
       "      <td>Yes</td>\n",
       "      <td>Americano</td>\n",
       "      <td>Yes</td>\n",
       "      <td>Female</td>\n",
       "      <td>Lebanon</td>\n",
       "      <td>30 to 39</td>\n",
       "    </tr>\n",
       "    <tr>\n",
       "      <th>2</th>\n",
       "      <td>5</td>\n",
       "      <td>3</td>\n",
       "      <td>While coding</td>\n",
       "      <td>No</td>\n",
       "      <td>Nescafe</td>\n",
       "      <td>Yes</td>\n",
       "      <td>Female</td>\n",
       "      <td>Lebanon</td>\n",
       "      <td>18 to 29</td>\n",
       "    </tr>\n",
       "    <tr>\n",
       "      <th>3</th>\n",
       "      <td>8</td>\n",
       "      <td>2</td>\n",
       "      <td>Before coding</td>\n",
       "      <td>No</td>\n",
       "      <td>Nescafe</td>\n",
       "      <td>Yes</td>\n",
       "      <td>Male</td>\n",
       "      <td>Lebanon</td>\n",
       "      <td>NaN</td>\n",
       "    </tr>\n",
       "    <tr>\n",
       "      <th>4</th>\n",
       "      <td>10</td>\n",
       "      <td>3</td>\n",
       "      <td>While coding</td>\n",
       "      <td>Sometimes</td>\n",
       "      <td>Turkish</td>\n",
       "      <td>No</td>\n",
       "      <td>Male</td>\n",
       "      <td>Lebanon</td>\n",
       "      <td>18 to 29</td>\n",
       "    </tr>\n",
       "    <tr>\n",
       "      <th>...</th>\n",
       "      <td>...</td>\n",
       "      <td>...</td>\n",
       "      <td>...</td>\n",
       "      <td>...</td>\n",
       "      <td>...</td>\n",
       "      <td>...</td>\n",
       "      <td>...</td>\n",
       "      <td>...</td>\n",
       "      <td>...</td>\n",
       "    </tr>\n",
       "    <tr>\n",
       "      <th>95</th>\n",
       "      <td>6</td>\n",
       "      <td>2</td>\n",
       "      <td>Before coding</td>\n",
       "      <td>Yes</td>\n",
       "      <td>Nescafe</td>\n",
       "      <td>Yes</td>\n",
       "      <td>Male</td>\n",
       "      <td>Lebanon</td>\n",
       "      <td>18 to 29</td>\n",
       "    </tr>\n",
       "    <tr>\n",
       "      <th>96</th>\n",
       "      <td>4</td>\n",
       "      <td>1</td>\n",
       "      <td>Before coding</td>\n",
       "      <td>Sometimes</td>\n",
       "      <td>Nescafe</td>\n",
       "      <td>Sometimes</td>\n",
       "      <td>Female</td>\n",
       "      <td>Lebanon</td>\n",
       "      <td>18 to 29</td>\n",
       "    </tr>\n",
       "    <tr>\n",
       "      <th>97</th>\n",
       "      <td>10</td>\n",
       "      <td>3</td>\n",
       "      <td>Before coding</td>\n",
       "      <td>Yes</td>\n",
       "      <td>Cappuccino</td>\n",
       "      <td>Yes</td>\n",
       "      <td>Male</td>\n",
       "      <td>Lebanon</td>\n",
       "      <td>Under 18</td>\n",
       "    </tr>\n",
       "    <tr>\n",
       "      <th>98</th>\n",
       "      <td>2</td>\n",
       "      <td>2</td>\n",
       "      <td>While coding</td>\n",
       "      <td>Sometimes</td>\n",
       "      <td>Espresso (Short Black)</td>\n",
       "      <td>Sometimes</td>\n",
       "      <td>Female</td>\n",
       "      <td>Lebanon</td>\n",
       "      <td>18 to 29</td>\n",
       "    </tr>\n",
       "    <tr>\n",
       "      <th>99</th>\n",
       "      <td>10</td>\n",
       "      <td>4</td>\n",
       "      <td>Before coding</td>\n",
       "      <td>Sometimes</td>\n",
       "      <td>Double Espresso (Doppio)</td>\n",
       "      <td>Sometimes</td>\n",
       "      <td>Male</td>\n",
       "      <td>Lebanon</td>\n",
       "      <td>18 to 29</td>\n",
       "    </tr>\n",
       "  </tbody>\n",
       "</table>\n",
       "<p>100 rows × 9 columns</p>\n",
       "</div>"
      ],
      "text/plain": [
       "    CodingHours  CoffeeCupsPerDay     CoffeeTime CodingWithoutCoffee  \\\n",
       "0             8                 2  Before coding                 Yes   \n",
       "1             3                 2  Before coding                 Yes   \n",
       "2             5                 3   While coding                  No   \n",
       "3             8                 2  Before coding                  No   \n",
       "4            10                 3   While coding           Sometimes   \n",
       "..          ...               ...            ...                 ...   \n",
       "95            6                 2  Before coding                 Yes   \n",
       "96            4                 1  Before coding           Sometimes   \n",
       "97           10                 3  Before coding                 Yes   \n",
       "98            2                 2   While coding           Sometimes   \n",
       "99           10                 4  Before coding           Sometimes   \n",
       "\n",
       "                  CoffeeType CoffeeSolveBugs  Gender  Country  AgeRange  \n",
       "0                Caffè latte       Sometimes  Female  Lebanon  18 to 29  \n",
       "1                  Americano             Yes  Female  Lebanon  30 to 39  \n",
       "2                    Nescafe             Yes  Female  Lebanon  18 to 29  \n",
       "3                    Nescafe             Yes    Male  Lebanon       NaN  \n",
       "4                    Turkish              No    Male  Lebanon  18 to 29  \n",
       "..                       ...             ...     ...      ...       ...  \n",
       "95                   Nescafe             Yes    Male  Lebanon  18 to 29  \n",
       "96                   Nescafe       Sometimes  Female  Lebanon  18 to 29  \n",
       "97                Cappuccino             Yes    Male  Lebanon  Under 18  \n",
       "98    Espresso (Short Black)       Sometimes  Female  Lebanon  18 to 29  \n",
       "99  Double Espresso (Doppio)       Sometimes    Male  Lebanon  18 to 29  \n",
       "\n",
       "[100 rows x 9 columns]"
      ]
     },
     "execution_count": 23,
     "metadata": {},
     "output_type": "execute_result"
    }
   ],
   "source": [
    "df"
   ]
  },
  {
   "cell_type": "markdown",
   "metadata": {},
   "source": [
    "Можем вызвать первые несколько строк:"
   ]
  },
  {
   "cell_type": "code",
   "execution_count": 24,
   "metadata": {},
   "outputs": [
    {
     "data": {
      "text/html": [
       "<div>\n",
       "<style scoped>\n",
       "    .dataframe tbody tr th:only-of-type {\n",
       "        vertical-align: middle;\n",
       "    }\n",
       "\n",
       "    .dataframe tbody tr th {\n",
       "        vertical-align: top;\n",
       "    }\n",
       "\n",
       "    .dataframe thead th {\n",
       "        text-align: right;\n",
       "    }\n",
       "</style>\n",
       "<table border=\"1\" class=\"dataframe\">\n",
       "  <thead>\n",
       "    <tr style=\"text-align: right;\">\n",
       "      <th></th>\n",
       "      <th>CodingHours</th>\n",
       "      <th>CoffeeCupsPerDay</th>\n",
       "      <th>CoffeeTime</th>\n",
       "      <th>CodingWithoutCoffee</th>\n",
       "      <th>CoffeeType</th>\n",
       "      <th>CoffeeSolveBugs</th>\n",
       "      <th>Gender</th>\n",
       "      <th>Country</th>\n",
       "      <th>AgeRange</th>\n",
       "    </tr>\n",
       "  </thead>\n",
       "  <tbody>\n",
       "    <tr>\n",
       "      <th>0</th>\n",
       "      <td>8</td>\n",
       "      <td>2</td>\n",
       "      <td>Before coding</td>\n",
       "      <td>Yes</td>\n",
       "      <td>Caffè latte</td>\n",
       "      <td>Sometimes</td>\n",
       "      <td>Female</td>\n",
       "      <td>Lebanon</td>\n",
       "      <td>18 to 29</td>\n",
       "    </tr>\n",
       "    <tr>\n",
       "      <th>1</th>\n",
       "      <td>3</td>\n",
       "      <td>2</td>\n",
       "      <td>Before coding</td>\n",
       "      <td>Yes</td>\n",
       "      <td>Americano</td>\n",
       "      <td>Yes</td>\n",
       "      <td>Female</td>\n",
       "      <td>Lebanon</td>\n",
       "      <td>30 to 39</td>\n",
       "    </tr>\n",
       "    <tr>\n",
       "      <th>2</th>\n",
       "      <td>5</td>\n",
       "      <td>3</td>\n",
       "      <td>While coding</td>\n",
       "      <td>No</td>\n",
       "      <td>Nescafe</td>\n",
       "      <td>Yes</td>\n",
       "      <td>Female</td>\n",
       "      <td>Lebanon</td>\n",
       "      <td>18 to 29</td>\n",
       "    </tr>\n",
       "  </tbody>\n",
       "</table>\n",
       "</div>"
      ],
      "text/plain": [
       "   CodingHours  CoffeeCupsPerDay     CoffeeTime CodingWithoutCoffee  \\\n",
       "0            8                 2  Before coding                 Yes   \n",
       "1            3                 2  Before coding                 Yes   \n",
       "2            5                 3   While coding                  No   \n",
       "\n",
       "    CoffeeType CoffeeSolveBugs  Gender  Country  AgeRange  \n",
       "0  Caffè latte       Sometimes  Female  Lebanon  18 to 29  \n",
       "1    Americano             Yes  Female  Lebanon  30 to 39  \n",
       "2      Nescafe             Yes  Female  Lebanon  18 to 29  "
      ]
     },
     "execution_count": 24,
     "metadata": {},
     "output_type": "execute_result"
    }
   ],
   "source": [
    "df.head(3)"
   ]
  },
  {
   "cell_type": "markdown",
   "metadata": {},
   "source": [
    "Или последние:"
   ]
  },
  {
   "cell_type": "code",
   "execution_count": 25,
   "metadata": {},
   "outputs": [
    {
     "data": {
      "text/html": [
       "<div>\n",
       "<style scoped>\n",
       "    .dataframe tbody tr th:only-of-type {\n",
       "        vertical-align: middle;\n",
       "    }\n",
       "\n",
       "    .dataframe tbody tr th {\n",
       "        vertical-align: top;\n",
       "    }\n",
       "\n",
       "    .dataframe thead th {\n",
       "        text-align: right;\n",
       "    }\n",
       "</style>\n",
       "<table border=\"1\" class=\"dataframe\">\n",
       "  <thead>\n",
       "    <tr style=\"text-align: right;\">\n",
       "      <th></th>\n",
       "      <th>CodingHours</th>\n",
       "      <th>CoffeeCupsPerDay</th>\n",
       "      <th>CoffeeTime</th>\n",
       "      <th>CodingWithoutCoffee</th>\n",
       "      <th>CoffeeType</th>\n",
       "      <th>CoffeeSolveBugs</th>\n",
       "      <th>Gender</th>\n",
       "      <th>Country</th>\n",
       "      <th>AgeRange</th>\n",
       "    </tr>\n",
       "  </thead>\n",
       "  <tbody>\n",
       "    <tr>\n",
       "      <th>97</th>\n",
       "      <td>10</td>\n",
       "      <td>3</td>\n",
       "      <td>Before coding</td>\n",
       "      <td>Yes</td>\n",
       "      <td>Cappuccino</td>\n",
       "      <td>Yes</td>\n",
       "      <td>Male</td>\n",
       "      <td>Lebanon</td>\n",
       "      <td>Under 18</td>\n",
       "    </tr>\n",
       "    <tr>\n",
       "      <th>98</th>\n",
       "      <td>2</td>\n",
       "      <td>2</td>\n",
       "      <td>While coding</td>\n",
       "      <td>Sometimes</td>\n",
       "      <td>Espresso (Short Black)</td>\n",
       "      <td>Sometimes</td>\n",
       "      <td>Female</td>\n",
       "      <td>Lebanon</td>\n",
       "      <td>18 to 29</td>\n",
       "    </tr>\n",
       "    <tr>\n",
       "      <th>99</th>\n",
       "      <td>10</td>\n",
       "      <td>4</td>\n",
       "      <td>Before coding</td>\n",
       "      <td>Sometimes</td>\n",
       "      <td>Double Espresso (Doppio)</td>\n",
       "      <td>Sometimes</td>\n",
       "      <td>Male</td>\n",
       "      <td>Lebanon</td>\n",
       "      <td>18 to 29</td>\n",
       "    </tr>\n",
       "  </tbody>\n",
       "</table>\n",
       "</div>"
      ],
      "text/plain": [
       "    CodingHours  CoffeeCupsPerDay     CoffeeTime CodingWithoutCoffee  \\\n",
       "97           10                 3  Before coding                 Yes   \n",
       "98            2                 2   While coding           Sometimes   \n",
       "99           10                 4  Before coding           Sometimes   \n",
       "\n",
       "                  CoffeeType CoffeeSolveBugs  Gender  Country  AgeRange  \n",
       "97                Cappuccino             Yes    Male  Lebanon  Under 18  \n",
       "98    Espresso (Short Black)       Sometimes  Female  Lebanon  18 to 29  \n",
       "99  Double Espresso (Doppio)       Sometimes    Male  Lebanon  18 to 29  "
      ]
     },
     "execution_count": 25,
     "metadata": {},
     "output_type": "execute_result"
    }
   ],
   "source": [
    "df.tail(3)"
   ]
  },
  {
   "cell_type": "markdown",
   "metadata": {},
   "source": [
    "Теперь запросим техническую информацию по датафрейму:"
   ]
  },
  {
   "cell_type": "code",
   "execution_count": 26,
   "metadata": {},
   "outputs": [
    {
     "name": "stdout",
     "output_type": "stream",
     "text": [
      "<class 'pandas.core.frame.DataFrame'>\n",
      "RangeIndex: 100 entries, 0 to 99\n",
      "Data columns (total 9 columns):\n",
      " #   Column               Non-Null Count  Dtype \n",
      "---  ------               --------------  ----- \n",
      " 0   CodingHours          100 non-null    int64 \n",
      " 1   CoffeeCupsPerDay     100 non-null    int64 \n",
      " 2   CoffeeTime           100 non-null    object\n",
      " 3   CodingWithoutCoffee  100 non-null    object\n",
      " 4   CoffeeType           99 non-null     object\n",
      " 5   CoffeeSolveBugs      100 non-null    object\n",
      " 6   Gender               100 non-null    object\n",
      " 7   Country              100 non-null    object\n",
      " 8   AgeRange             98 non-null     object\n",
      "dtypes: int64(2), object(7)\n",
      "memory usage: 7.2+ KB\n"
     ]
    }
   ],
   "source": [
    "df.info()"
   ]
  },
  {
   "cell_type": "markdown",
   "metadata": {},
   "source": [
    "Метод `.info()` возвращает число строк в датафрейме (`100 entries`), перечень столбцов с сохранёнными в них типами данных (`Dtype`) и количество заполненных ячеек (`Not-Null Count`) в каждом столбце. Обратите внимание: строковый тип в `pandas` называется не `string`, а `object`.\n",
    "\n",
    "Теперь вызовем статистическое описание датафрейма – основные описательные статистики:"
   ]
  },
  {
   "cell_type": "code",
   "execution_count": 27,
   "metadata": {},
   "outputs": [
    {
     "data": {
      "text/html": [
       "<div>\n",
       "<style scoped>\n",
       "    .dataframe tbody tr th:only-of-type {\n",
       "        vertical-align: middle;\n",
       "    }\n",
       "\n",
       "    .dataframe tbody tr th {\n",
       "        vertical-align: top;\n",
       "    }\n",
       "\n",
       "    .dataframe thead th {\n",
       "        text-align: right;\n",
       "    }\n",
       "</style>\n",
       "<table border=\"1\" class=\"dataframe\">\n",
       "  <thead>\n",
       "    <tr style=\"text-align: right;\">\n",
       "      <th></th>\n",
       "      <th>CodingHours</th>\n",
       "      <th>CoffeeCupsPerDay</th>\n",
       "    </tr>\n",
       "  </thead>\n",
       "  <tbody>\n",
       "    <tr>\n",
       "      <th>count</th>\n",
       "      <td>100.000000</td>\n",
       "      <td>100.000000</td>\n",
       "    </tr>\n",
       "    <tr>\n",
       "      <th>mean</th>\n",
       "      <td>6.410000</td>\n",
       "      <td>2.890000</td>\n",
       "    </tr>\n",
       "    <tr>\n",
       "      <th>std</th>\n",
       "      <td>2.644205</td>\n",
       "      <td>1.613673</td>\n",
       "    </tr>\n",
       "    <tr>\n",
       "      <th>min</th>\n",
       "      <td>1.000000</td>\n",
       "      <td>1.000000</td>\n",
       "    </tr>\n",
       "    <tr>\n",
       "      <th>25%</th>\n",
       "      <td>4.000000</td>\n",
       "      <td>2.000000</td>\n",
       "    </tr>\n",
       "    <tr>\n",
       "      <th>50%</th>\n",
       "      <td>7.000000</td>\n",
       "      <td>2.500000</td>\n",
       "    </tr>\n",
       "    <tr>\n",
       "      <th>75%</th>\n",
       "      <td>8.000000</td>\n",
       "      <td>4.000000</td>\n",
       "    </tr>\n",
       "    <tr>\n",
       "      <th>max</th>\n",
       "      <td>10.000000</td>\n",
       "      <td>8.000000</td>\n",
       "    </tr>\n",
       "  </tbody>\n",
       "</table>\n",
       "</div>"
      ],
      "text/plain": [
       "       CodingHours  CoffeeCupsPerDay\n",
       "count   100.000000        100.000000\n",
       "mean      6.410000          2.890000\n",
       "std       2.644205          1.613673\n",
       "min       1.000000          1.000000\n",
       "25%       4.000000          2.000000\n",
       "50%       7.000000          2.500000\n",
       "75%       8.000000          4.000000\n",
       "max      10.000000          8.000000"
      ]
     },
     "execution_count": 27,
     "metadata": {},
     "output_type": "execute_result"
    }
   ],
   "source": [
    "df.describe()"
   ]
  },
  {
   "cell_type": "markdown",
   "metadata": {},
   "source": [
    "По умолчанию метод `.describe()` возвращает характеристики только числовых столбцов:\n",
    "\n",
    "* `count`: число заполненных ячеек в столбце;\n",
    "* `mean`: среднее арифметическое;\n",
    "* `std`: стандартное отклонение, посчитанное по столбцу;\n",
    "* `25%`, `50%`, `75%`: нижний квартиль, медиана, верхний квартиль;\n",
    "* `min` и `max`: минимальное и максимальное значение."
   ]
  },
  {
   "cell_type": "markdown",
   "metadata": {},
   "source": [
    "Если мы хотим описать текстовые столбцы, мы сможем это сделать – добавим аргумент `include` и укажем в нём соответствующий тип:"
   ]
  },
  {
   "cell_type": "code",
   "execution_count": 28,
   "metadata": {},
   "outputs": [
    {
     "data": {
      "text/html": [
       "<div>\n",
       "<style scoped>\n",
       "    .dataframe tbody tr th:only-of-type {\n",
       "        vertical-align: middle;\n",
       "    }\n",
       "\n",
       "    .dataframe tbody tr th {\n",
       "        vertical-align: top;\n",
       "    }\n",
       "\n",
       "    .dataframe thead th {\n",
       "        text-align: right;\n",
       "    }\n",
       "</style>\n",
       "<table border=\"1\" class=\"dataframe\">\n",
       "  <thead>\n",
       "    <tr style=\"text-align: right;\">\n",
       "      <th></th>\n",
       "      <th>CoffeeTime</th>\n",
       "      <th>CodingWithoutCoffee</th>\n",
       "      <th>CoffeeType</th>\n",
       "      <th>CoffeeSolveBugs</th>\n",
       "      <th>Gender</th>\n",
       "      <th>Country</th>\n",
       "      <th>AgeRange</th>\n",
       "    </tr>\n",
       "  </thead>\n",
       "  <tbody>\n",
       "    <tr>\n",
       "      <th>count</th>\n",
       "      <td>100</td>\n",
       "      <td>100</td>\n",
       "      <td>99</td>\n",
       "      <td>100</td>\n",
       "      <td>100</td>\n",
       "      <td>100</td>\n",
       "      <td>98</td>\n",
       "    </tr>\n",
       "    <tr>\n",
       "      <th>unique</th>\n",
       "      <td>7</td>\n",
       "      <td>3</td>\n",
       "      <td>8</td>\n",
       "      <td>3</td>\n",
       "      <td>2</td>\n",
       "      <td>1</td>\n",
       "      <td>5</td>\n",
       "    </tr>\n",
       "    <tr>\n",
       "      <th>top</th>\n",
       "      <td>While coding</td>\n",
       "      <td>Sometimes</td>\n",
       "      <td>Nescafe</td>\n",
       "      <td>Sometimes</td>\n",
       "      <td>Male</td>\n",
       "      <td>Lebanon</td>\n",
       "      <td>18 to 29</td>\n",
       "    </tr>\n",
       "    <tr>\n",
       "      <th>freq</th>\n",
       "      <td>61</td>\n",
       "      <td>51</td>\n",
       "      <td>32</td>\n",
       "      <td>43</td>\n",
       "      <td>74</td>\n",
       "      <td>100</td>\n",
       "      <td>60</td>\n",
       "    </tr>\n",
       "  </tbody>\n",
       "</table>\n",
       "</div>"
      ],
      "text/plain": [
       "          CoffeeTime CodingWithoutCoffee CoffeeType CoffeeSolveBugs Gender  \\\n",
       "count            100                 100         99             100    100   \n",
       "unique             7                   3          8               3      2   \n",
       "top     While coding           Sometimes    Nescafe       Sometimes   Male   \n",
       "freq              61                  51         32              43     74   \n",
       "\n",
       "        Country  AgeRange  \n",
       "count       100        98  \n",
       "unique        1         5  \n",
       "top     Lebanon  18 to 29  \n",
       "freq        100        60  "
      ]
     },
     "execution_count": 28,
     "metadata": {},
     "output_type": "execute_result"
    }
   ],
   "source": [
    "df.describe(include = \"object\")"
   ]
  },
  {
   "cell_type": "markdown",
   "metadata": {},
   "source": [
    "Для текстовых столбцов метод `.describe()` возвращает следующие характеристики:\n",
    "    \n",
    "* `count`: число заполненных ячеек в столбце;\n",
    "* `unique`: число уникальных значений в столбце;\n",
    "* `top`: мода – самое частое значение в столбце;\n",
    "* `freq`: частота, которая соответствует моде (сколько раз встретилось значение, указанное в `top`)."
   ]
  },
  {
   "cell_type": "markdown",
   "metadata": {},
   "source": [
    "Если хочется увидеть частоты для всех уникальных значений, пригодится метод `.value_counts()`. Выберем столбец с типом кофе по названию (как из словаря!) и получим по нему таблицу с частотами: "
   ]
  },
  {
   "cell_type": "code",
   "execution_count": 29,
   "metadata": {},
   "outputs": [
    {
     "data": {
      "text/plain": [
       "Nescafe                     32\n",
       "American Coffee             23\n",
       "Turkish                     19\n",
       "Espresso (Short Black)       8\n",
       "Cappuccino                   7\n",
       "Caffè latte                  5\n",
       "Double Espresso (Doppio)     3\n",
       "Americano                    2\n",
       "Name: CoffeeType, dtype: int64"
      ]
     },
     "execution_count": 29,
     "metadata": {},
     "output_type": "execute_result"
    }
   ],
   "source": [
    "df[\"CoffeeType\"].value_counts()"
   ]
  },
  {
   "cell_type": "markdown",
   "metadata": {},
   "source": [
    "Вернёмся к числовым столбцам. Выведем описательные статистики для числа чашек кофе, выпиваемым программистами:"
   ]
  },
  {
   "cell_type": "code",
   "execution_count": 30,
   "metadata": {},
   "outputs": [
    {
     "data": {
      "text/plain": [
       "count    100.000000\n",
       "mean       2.890000\n",
       "std        1.613673\n",
       "min        1.000000\n",
       "25%        2.000000\n",
       "50%        2.500000\n",
       "75%        4.000000\n",
       "max        8.000000\n",
       "Name: CoffeeCupsPerDay, dtype: float64"
      ]
     },
     "execution_count": 30,
     "metadata": {},
     "output_type": "execute_result"
    }
   ],
   "source": [
    "df[\"CoffeeCupsPerDay\"].describe()"
   ]
  },
  {
   "cell_type": "markdown",
   "metadata": {},
   "source": [
    "Или отдельно:"
   ]
  },
  {
   "cell_type": "code",
   "execution_count": 31,
   "metadata": {},
   "outputs": [
    {
     "name": "stdout",
     "output_type": "stream",
     "text": [
      "1\n",
      "8\n",
      "2.89\n"
     ]
    }
   ],
   "source": [
    "print(df[\"CoffeeCupsPerDay\"].min())\n",
    "print(df[\"CoffeeCupsPerDay\"].max())\n",
    "print(df[\"CoffeeCupsPerDay\"].mean())"
   ]
  },
  {
   "cell_type": "markdown",
   "metadata": {},
   "source": [
    "Квартили и медиана:"
   ]
  },
  {
   "cell_type": "code",
   "execution_count": 32,
   "metadata": {},
   "outputs": [
    {
     "name": "stdout",
     "output_type": "stream",
     "text": [
      "2.0\n",
      "2.5\n",
      "4.0\n"
     ]
    }
   ],
   "source": [
    "print(df[\"CoffeeCupsPerDay\"].quantile(0.25))\n",
    "print(df[\"CoffeeCupsPerDay\"].quantile(0.5))\n",
    "print(df[\"CoffeeCupsPerDay\"].quantile(0.75))"
   ]
  },
  {
   "cell_type": "markdown",
   "metadata": {},
   "source": [
    "Теперь вычислим ранги наблюдений:"
   ]
  },
  {
   "cell_type": "code",
   "execution_count": 33,
   "metadata": {},
   "outputs": [
    {
     "data": {
      "text/plain": [
       "0     33.5\n",
       "1     33.5\n",
       "2     62.0\n",
       "3     33.5\n",
       "4     62.0\n",
       "      ... \n",
       "95    33.5\n",
       "96     8.5\n",
       "97    62.0\n",
       "98    33.5\n",
       "99    81.0\n",
       "Name: CoffeeCupsPerDay, Length: 100, dtype: float64"
      ]
     },
     "execution_count": 33,
     "metadata": {},
     "output_type": "execute_result"
    }
   ],
   "source": [
    "df[\"CoffeeCupsPerDay\"].rank()"
   ]
  },
  {
   "cell_type": "markdown",
   "metadata": {},
   "source": [
    "В завершение вводного знакомства с описанием данных в Python выведем описательные статистики по группам. Сравним характеристики программистов, по-разному относящихся к багам в коде.\n",
    "\n",
    "Сначала посмотрим на средние значения числовых столбцов:"
   ]
  },
  {
   "cell_type": "code",
   "execution_count": 34,
   "metadata": {},
   "outputs": [
    {
     "data": {
      "text/html": [
       "<div>\n",
       "<style scoped>\n",
       "    .dataframe tbody tr th:only-of-type {\n",
       "        vertical-align: middle;\n",
       "    }\n",
       "\n",
       "    .dataframe tbody tr th {\n",
       "        vertical-align: top;\n",
       "    }\n",
       "\n",
       "    .dataframe thead th {\n",
       "        text-align: right;\n",
       "    }\n",
       "</style>\n",
       "<table border=\"1\" class=\"dataframe\">\n",
       "  <thead>\n",
       "    <tr style=\"text-align: right;\">\n",
       "      <th></th>\n",
       "      <th>CodingHours</th>\n",
       "      <th>CoffeeCupsPerDay</th>\n",
       "    </tr>\n",
       "    <tr>\n",
       "      <th>CoffeeSolveBugs</th>\n",
       "      <th></th>\n",
       "      <th></th>\n",
       "    </tr>\n",
       "  </thead>\n",
       "  <tbody>\n",
       "    <tr>\n",
       "      <th>No</th>\n",
       "      <td>6.518519</td>\n",
       "      <td>2.407407</td>\n",
       "    </tr>\n",
       "    <tr>\n",
       "      <th>Sometimes</th>\n",
       "      <td>6.046512</td>\n",
       "      <td>2.790698</td>\n",
       "    </tr>\n",
       "    <tr>\n",
       "      <th>Yes</th>\n",
       "      <td>6.833333</td>\n",
       "      <td>3.466667</td>\n",
       "    </tr>\n",
       "  </tbody>\n",
       "</table>\n",
       "</div>"
      ],
      "text/plain": [
       "                 CodingHours  CoffeeCupsPerDay\n",
       "CoffeeSolveBugs                               \n",
       "No                  6.518519          2.407407\n",
       "Sometimes           6.046512          2.790698\n",
       "Yes                 6.833333          3.466667"
      ]
     },
     "execution_count": 34,
     "metadata": {},
     "output_type": "execute_result"
    }
   ],
   "source": [
    "# в .groupby() – столбец, по которому группируем данные\n",
    "# далее – нужная функция \n",
    "\n",
    "df.groupby(\"CoffeeSolveBugs\").mean()"
   ]
  },
  {
   "cell_type": "markdown",
   "metadata": {},
   "source": [
    "А теперь посмотрим на минимальные и максимальные значения, средние и медианы:"
   ]
  },
  {
   "cell_type": "code",
   "execution_count": 35,
   "metadata": {},
   "outputs": [
    {
     "data": {
      "text/html": [
       "<div>\n",
       "<style scoped>\n",
       "    .dataframe tbody tr th:only-of-type {\n",
       "        vertical-align: middle;\n",
       "    }\n",
       "\n",
       "    .dataframe tbody tr th {\n",
       "        vertical-align: top;\n",
       "    }\n",
       "\n",
       "    .dataframe thead tr th {\n",
       "        text-align: left;\n",
       "    }\n",
       "\n",
       "    .dataframe thead tr:last-of-type th {\n",
       "        text-align: right;\n",
       "    }\n",
       "</style>\n",
       "<table border=\"1\" class=\"dataframe\">\n",
       "  <thead>\n",
       "    <tr>\n",
       "      <th></th>\n",
       "      <th colspan=\"4\" halign=\"left\">CodingHours</th>\n",
       "      <th colspan=\"4\" halign=\"left\">CoffeeCupsPerDay</th>\n",
       "    </tr>\n",
       "    <tr>\n",
       "      <th></th>\n",
       "      <th>min</th>\n",
       "      <th>max</th>\n",
       "      <th>mean</th>\n",
       "      <th>median</th>\n",
       "      <th>min</th>\n",
       "      <th>max</th>\n",
       "      <th>mean</th>\n",
       "      <th>median</th>\n",
       "    </tr>\n",
       "    <tr>\n",
       "      <th>CoffeeSolveBugs</th>\n",
       "      <th></th>\n",
       "      <th></th>\n",
       "      <th></th>\n",
       "      <th></th>\n",
       "      <th></th>\n",
       "      <th></th>\n",
       "      <th></th>\n",
       "      <th></th>\n",
       "    </tr>\n",
       "  </thead>\n",
       "  <tbody>\n",
       "    <tr>\n",
       "      <th>No</th>\n",
       "      <td>2</td>\n",
       "      <td>10</td>\n",
       "      <td>6.518519</td>\n",
       "      <td>7.0</td>\n",
       "      <td>1</td>\n",
       "      <td>6</td>\n",
       "      <td>2.407407</td>\n",
       "      <td>2.0</td>\n",
       "    </tr>\n",
       "    <tr>\n",
       "      <th>Sometimes</th>\n",
       "      <td>2</td>\n",
       "      <td>10</td>\n",
       "      <td>6.046512</td>\n",
       "      <td>6.0</td>\n",
       "      <td>1</td>\n",
       "      <td>8</td>\n",
       "      <td>2.790698</td>\n",
       "      <td>3.0</td>\n",
       "    </tr>\n",
       "    <tr>\n",
       "      <th>Yes</th>\n",
       "      <td>1</td>\n",
       "      <td>10</td>\n",
       "      <td>6.833333</td>\n",
       "      <td>7.5</td>\n",
       "      <td>1</td>\n",
       "      <td>8</td>\n",
       "      <td>3.466667</td>\n",
       "      <td>3.0</td>\n",
       "    </tr>\n",
       "  </tbody>\n",
       "</table>\n",
       "</div>"
      ],
      "text/plain": [
       "                CodingHours                      CoffeeCupsPerDay      \\\n",
       "                        min max      mean median              min max   \n",
       "CoffeeSolveBugs                                                         \n",
       "No                        2  10  6.518519    7.0                1   6   \n",
       "Sometimes                 2  10  6.046512    6.0                1   8   \n",
       "Yes                       1  10  6.833333    7.5                1   8   \n",
       "\n",
       "                                  \n",
       "                     mean median  \n",
       "CoffeeSolveBugs                   \n",
       "No               2.407407    2.0  \n",
       "Sometimes        2.790698    3.0  \n",
       "Yes              3.466667    3.0  "
      ]
     },
     "execution_count": 35,
     "metadata": {},
     "output_type": "execute_result"
    }
   ],
   "source": [
    "# в .groupby() – столбец, по которому группируем данные\n",
    "# в .agg() – перечень функций в кавычках\n",
    "\n",
    "df.groupby(\"CoffeeSolveBugs\").agg([\"min\", \"max\", \"mean\", \"median\"])"
   ]
  }
 ],
 "metadata": {
  "kernelspec": {
   "display_name": "Python 3",
   "language": "python",
   "name": "python3"
  },
  "language_info": {
   "codemirror_mode": {
    "name": "ipython",
    "version": 3
   },
   "file_extension": ".py",
   "mimetype": "text/x-python",
   "name": "python",
   "nbconvert_exporter": "python",
   "pygments_lexer": "ipython3",
   "version": "3.7.4"
  }
 },
 "nbformat": 4,
 "nbformat_minor": 2
}
