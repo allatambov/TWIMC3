{
 "cells": [
  {
   "cell_type": "markdown",
   "metadata": {},
   "source": [
    "# Введение в ТВиМС: практикум по описанию выборок №2\n",
    "\n",
    "*Алла Тамбовцева, НИУ ВШЭ*"
   ]
  },
  {
   "cell_type": "markdown",
   "metadata": {},
   "source": [
    "## Часть 1: построение гистограммы"
   ]
  },
  {
   "cell_type": "markdown",
   "metadata": {},
   "source": [
    "Вновь импортируем библиотеку `numpy` для работы с массивами и модуль `pyplot` из библиотеки `matplotlib` для отрисовки графиков:"
   ]
  },
  {
   "cell_type": "code",
   "execution_count": null,
   "metadata": {},
   "outputs": [],
   "source": [
    "import numpy as np\n",
    "from matplotlib import pyplot as plt"
   ]
  },
  {
   "cell_type": "markdown",
   "metadata": {},
   "source": [
    "Создадим массив `turnout` со значениями явки из семинарского листочка:"
   ]
  },
  {
   "cell_type": "code",
   "execution_count": null,
   "metadata": {},
   "outputs": [],
   "source": [
    "turnout = np.array([38.19, 44.20, 37.31, 37.58, \n",
    "          36.62, 46.16, 37.65, 35.02, 35.24])\n",
    "print(turnout)"
   ]
  },
  {
   "cell_type": "markdown",
   "metadata": {},
   "source": [
    "Построим для этой выборки гистограмму:"
   ]
  },
  {
   "cell_type": "code",
   "execution_count": null,
   "metadata": {},
   "outputs": [],
   "source": [
    "# color: цвет заливки\n",
    "# edgecolor: цвет границ, k – сокращение от black\n",
    "\n",
    "plt.hist(turnout, color = \"hotpink\", edgecolor = \"k\")"
   ]
  },
  {
   "cell_type": "markdown",
   "metadata": {},
   "source": [
    "Функция `hist()` сама подбирает шаг и нужное число столбцов для гистограммы. Но выставить желаемое число столбцов или шаг тоже можно, воспользовавшись аргументом `bins`. В него можно подставить нужное число столбцов:"
   ]
  },
  {
   "cell_type": "code",
   "execution_count": null,
   "metadata": {},
   "outputs": [],
   "source": [
    "# например, 3\n",
    "plt.hist(turnout, bins = 3, color = \"hotpink\", edgecolor = \"k\")"
   ]
  },
  {
   "cell_type": "markdown",
   "metadata": {},
   "source": [
    "Также в этот аргумент можно подставить список или массив с границами столбцов. Попробуем воспроизвести те гистограммы, которые мы строили вручную. Зафиксируем стартовую и конечную точку. Стартовая точка была по условию равна 35, а конечную посчитаем самостоятельно – округлим максимальное значение в меньшую сторону и возьмем следующее за ним :"
   ]
  },
  {
   "cell_type": "code",
   "execution_count": null,
   "metadata": {},
   "outputs": [],
   "source": [
    "start = 35\n",
    "end = int(turnout.max()) + 1"
   ]
  },
  {
   "cell_type": "markdown",
   "metadata": {},
   "source": [
    "Теперь сформируем набор чисел от `start` до `end` с шагом 2 – это и будет шаг гистограммы:"
   ]
  },
  {
   "cell_type": "code",
   "execution_count": null,
   "metadata": {},
   "outputs": [],
   "source": [
    "# помним про range(), не забываем +1 \n",
    "\n",
    "plt.hist(turnout, bins = range(start, end + 1, 2), \n",
    "        color = \"hotpink\", edgecolor = \"k\");"
   ]
  },
  {
   "cell_type": "markdown",
   "metadata": {},
   "source": [
    "Теперь построим гистограмму с шагом 4:"
   ]
  },
  {
   "cell_type": "code",
   "execution_count": null,
   "metadata": {},
   "outputs": [],
   "source": [
    "plt.hist(turnout, bins = range(start, end + 1, 4), \n",
    "        color = \"hotpink\", edgecolor = \"k\");"
   ]
  },
  {
   "cell_type": "markdown",
   "metadata": {},
   "source": [
    "## Часть 2: выборочная дисперсия и стандартное отклонение"
   ]
  },
  {
   "cell_type": "markdown",
   "metadata": {},
   "source": [
    "Посчитаем выборочную оценку дисперсии:"
   ]
  },
  {
   "cell_type": "code",
   "execution_count": null,
   "metadata": {},
   "outputs": [],
   "source": [
    "print(turnout.var())"
   ]
  },
  {
   "cell_type": "markdown",
   "metadata": {},
   "source": [
    "**Важно:** Python коварен, он по умолчанию считает смещенную оценку дисперсии (которая с $n$ в знаменателе, а не с $n-1$). Чаще всего нас это не устраивает, поэтому запросим несмещенную оценку – попросим вычитать 1 в знаменателе:"
   ]
  },
  {
   "cell_type": "code",
   "execution_count": null,
   "metadata": {},
   "outputs": [],
   "source": [
    "# аргумент ddof = 1\n",
    "\n",
    "print(turnout.var(ddof = 1))"
   ]
  },
  {
   "cell_type": "markdown",
   "metadata": {},
   "source": [
    "Со стандартным отклонение то же самое:"
   ]
  },
  {
   "cell_type": "code",
   "execution_count": null,
   "metadata": {},
   "outputs": [],
   "source": [
    "print(turnout.std(ddof = 1))"
   ]
  },
  {
   "cell_type": "markdown",
   "metadata": {},
   "source": [
    "### Часть 3: предельные теоремы"
   ]
  },
  {
   "cell_type": "markdown",
   "metadata": {},
   "source": [
    "Для этой части нам потребуется модуль `stats` из библиотеки `scipy` – будем генерировать случайные выборки:"
   ]
  },
  {
   "cell_type": "code",
   "execution_count": null,
   "metadata": {},
   "outputs": [],
   "source": [
    "from scipy import stats"
   ]
  },
  {
   "cell_type": "markdown",
   "metadata": {},
   "source": [
    "Давайте визуализируем действие закона больших чисел. \n",
    "\n",
    "> **Закон больших чисел.** С увеличением размера выборки, среднее значение выборки становится ближе к среднему значению генеральной совокупности."
   ]
  },
  {
   "cell_type": "markdown",
   "metadata": {},
   "source": [
    "Возьмем выборки разного размера из нормального распределения со средним значением 168 и стандартным отклонением 2 (можно считать, что мы извлекаем выборки из генеральной совокупности, которая представляет собой набор значений роста женщин в сантиметрах).\n",
    "\n",
    "Начнем с небольшой выборки в 10 наблюдений."
   ]
  },
  {
   "cell_type": "code",
   "execution_count": null,
   "metadata": {},
   "outputs": [],
   "source": [
    "# norm: нормальное распределение со средним loc и ст отклонением scale\n",
    "# rvs: выборка, от random variable sample\n",
    "\n",
    "sample01 = stats.norm.rvs(loc = 168, scale = 2, size=10)\n",
    "print(sample01)"
   ]
  },
  {
   "cell_type": "markdown",
   "metadata": {},
   "source": [
    "Теперь сгенерируем выборки из 100 и 1500 наблюдений:"
   ]
  },
  {
   "cell_type": "code",
   "execution_count": null,
   "metadata": {},
   "outputs": [],
   "source": [
    "sample02 = stats.norm.rvs(loc = 168, scale = 2, size=100)\n",
    "sample03 = stats.norm.rvs(loc = 168, scale = 2, size=1500)"
   ]
  },
  {
   "cell_type": "markdown",
   "metadata": {},
   "source": [
    "Сравним средние выборок:"
   ]
  },
  {
   "cell_type": "code",
   "execution_count": null,
   "metadata": {},
   "outputs": [],
   "source": [
    "print(sample01.mean())\n",
    "print(sample02.mean())\n",
    "print(sample03.mean())"
   ]
  },
  {
   "cell_type": "markdown",
   "metadata": {},
   "source": [
    "Действительно, самое близкое к среднему генеральной совокупности 168 среднее последней, самой большой выборки.\n",
    "\n",
    "Заодно построим гистограммы для каждой выборки и убедимся, что с увеличением объема выборки распределение выборки все больше похоже на распределение генеральной совокупности, то есть на нормальное в нашем случае:"
   ]
  },
  {
   "cell_type": "code",
   "execution_count": null,
   "metadata": {},
   "outputs": [],
   "source": [
    "plt.hist(sample01, color = \"cornflowerblue\", edgecolor = \"white\", alpha=0.5);"
   ]
  },
  {
   "cell_type": "code",
   "execution_count": null,
   "metadata": {},
   "outputs": [],
   "source": [
    "plt.hist(sample02, color = \"cornflowerblue\", edgecolor = \"white\", alpha=0.5);"
   ]
  },
  {
   "cell_type": "code",
   "execution_count": null,
   "metadata": {},
   "outputs": [],
   "source": [
    "plt.hist(sample03, color = \"cornflowerblue\", edgecolor = \"white\", alpha=0.5);"
   ]
  },
  {
   "cell_type": "markdown",
   "metadata": {},
   "source": [
    "Теперь визуализируем действие центральной предельной теоремы.\n",
    "\n",
    "> **Центральная предельная теорема.** Пусть у нас есть генеральная совокупность со средним значением $\\mu$ и стандартным отклонением $\\sigma$. Если мы извлечем из этой совокупности все возможные выборки достаточно большого размера $n$ ($n \\geqslant 30$) и посчитаем по каждой выборке среднее значение, то эти средние значения будут примерно нормально распределены со средним $\\mu$ и стандартным отклонением $\\frac{\\sigma}{\\sqrt{n}}$."
   ]
  },
  {
   "cell_type": "markdown",
   "metadata": {},
   "source": [
    "Сформируем генеральную совокупность – 10000 значений из равномерного распределения на отрезке от 0 до 1:"
   ]
  },
  {
   "cell_type": "code",
   "execution_count": null,
   "metadata": {},
   "outputs": [],
   "source": [
    "population = stats.uniform.rvs(size = 10000)\n",
    "plt.hist(population, color = \"cornflowerblue\", edgecolor = \"white\", alpha=0.5);"
   ]
  },
  {
   "cell_type": "markdown",
   "metadata": {},
   "source": [
    "Видно, что распределение на нормальное совсем не похоже, это ожидаемо – оно равномерное :)\n",
    "Зафиксируем среднее и стандартное отклонение генеральной совокупности:"
   ]
  },
  {
   "cell_type": "code",
   "execution_count": null,
   "metadata": {},
   "outputs": [],
   "source": [
    "print(\"Mean: \", population.mean())\n",
    "print(\"St Deviation: \", population.std(ddof = 1))"
   ]
  },
  {
   "cell_type": "markdown",
   "metadata": {},
   "source": [
    "Теперь выберем из этой генеральной совокупности 10000 выборок по 1000 наблюдений (все возможные выборки не будем, очень много, можете посчитать $C_{10000}^{1000}$) и зафиксируем среднее по каждой выборке. \n",
    "\n",
    "Для псевдослучайного выбора воспользуемся `random.choice()` из `numpy`:"
   ]
  },
  {
   "cell_type": "code",
   "execution_count": null,
   "metadata": {},
   "outputs": [],
   "source": [
    "means = []\n",
    "\n",
    "# выбираем 10000 раз разные выборки с n=1000 из population\n",
    "# считаем среднее по каждой и добавляем в means\n",
    "\n",
    "for i in range(10000):\n",
    "    sample = np.random.choice(population, size = 1000)\n",
    "    avg = sample.mean()\n",
    "    means.append(avg)\n",
    "    \n",
    "# преобразуем в массив для удобства\n",
    "\n",
    "means = np.array(means)"
   ]
  },
  {
   "cell_type": "markdown",
   "metadata": {},
   "source": [
    "А теперь магия (действие центральной предельной теоремы)! Построим гистограмму для набора из полученных выборочных средних:"
   ]
  },
  {
   "cell_type": "code",
   "execution_count": null,
   "metadata": {},
   "outputs": [],
   "source": [
    "plt.hist(means, color = \"cornflowerblue\", edgecolor = \"white\", alpha=0.5);"
   ]
  },
  {
   "cell_type": "markdown",
   "metadata": {},
   "source": [
    "Распределение средних, действительно, оказалось нормальным, хотя выборки мы извлекали из равномерного распределения, которое на нормальное совсем не похоже. Проверим параметры полученного распределения:"
   ]
  },
  {
   "cell_type": "code",
   "execution_count": null,
   "metadata": {},
   "outputs": [],
   "source": [
    "print(\"Mean: \", means.mean())\n",
    "print(\"St Deviation: \", means.std(ddof = 1))"
   ]
  },
  {
   "cell_type": "markdown",
   "metadata": {},
   "source": [
    "Среднее, полученное по набору выборочных средних («среднее средних») практически совпадает со средним генеральной совокупности `population`. А вот стандартное отклонение, по идее, должно примерно совпадать со стандартным отклонением `population`, уменьшенным в $\\sqrt{1000}$ раз, так как мы извлекали выборки объема $n = 1000$:"
   ]
  },
  {
   "cell_type": "code",
   "execution_count": null,
   "metadata": {},
   "outputs": [],
   "source": [
    "print(population.std(ddof = 1) / np.sqrt(1000)) # есть такое"
   ]
  },
  {
   "cell_type": "markdown",
   "metadata": {},
   "source": [
    "Всё!"
   ]
  }
 ],
 "metadata": {
  "kernelspec": {
   "display_name": "Python 3",
   "language": "python",
   "name": "python3"
  },
  "language_info": {
   "codemirror_mode": {
    "name": "ipython",
    "version": 3
   },
   "file_extension": ".py",
   "mimetype": "text/x-python",
   "name": "python",
   "nbconvert_exporter": "python",
   "pygments_lexer": "ipython3",
   "version": "3.7.4"
  }
 },
 "nbformat": 4,
 "nbformat_minor": 2
}
